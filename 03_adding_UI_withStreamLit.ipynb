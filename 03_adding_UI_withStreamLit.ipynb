{
  "cells": [
    {
      "cell_type": "markdown",
      "metadata": {
        "id": "xPRVq3e03c1K"
      },
      "source": [
        "## Chatbot, adding UI with Streamlit"
      ]
    },
    {
      "cell_type": "markdown",
      "metadata": {
        "id": "L1KvMtf54l0d"
      },
      "source": [
        "### Install App and LLM dependencies"
      ]
    },
    {
      "cell_type": "code",
      "execution_count": 1,
      "metadata": {
        "colab": {
          "base_uri": "https://localhost:8080/"
        },
        "id": "2evPp14fy258",
        "outputId": "cadfd12c-3311-4895-cad7-2b7be2403808"
      },
      "outputs": [
        {
          "name": "stdout",
          "output_type": "stream",
          "text": [
            "Requirement already satisfied: langchain==0.1.12 in c:\\uva\\personalprojectspython\\genai_projects\\generativeai_projects\\venv\\lib\\site-packages (0.1.12)\n",
            "Requirement already satisfied: PyYAML>=5.3 in c:\\uva\\personalprojectspython\\genai_projects\\generativeai_projects\\venv\\lib\\site-packages (from langchain==0.1.12) (6.0.1)\n",
            "Requirement already satisfied: SQLAlchemy<3,>=1.4 in c:\\uva\\personalprojectspython\\genai_projects\\generativeai_projects\\venv\\lib\\site-packages (from langchain==0.1.12) (2.0.30)\n",
            "Requirement already satisfied: aiohttp<4.0.0,>=3.8.3 in c:\\uva\\personalprojectspython\\genai_projects\\generativeai_projects\\venv\\lib\\site-packages (from langchain==0.1.12) (3.9.5)\n",
            "Requirement already satisfied: dataclasses-json<0.7,>=0.5.7 in c:\\uva\\personalprojectspython\\genai_projects\\generativeai_projects\\venv\\lib\\site-packages (from langchain==0.1.12) (0.5.14)\n",
            "Requirement already satisfied: jsonpatch<2.0,>=1.33 in c:\\uva\\personalprojectspython\\genai_projects\\generativeai_projects\\venv\\lib\\site-packages (from langchain==0.1.12) (1.33)\n",
            "Requirement already satisfied: langchain-community<0.1,>=0.0.28 in c:\\uva\\personalprojectspython\\genai_projects\\generativeai_projects\\venv\\lib\\site-packages (from langchain==0.1.12) (0.0.29)\n",
            "Requirement already satisfied: langchain-core<0.2.0,>=0.1.31 in c:\\uva\\personalprojectspython\\genai_projects\\generativeai_projects\\venv\\lib\\site-packages (from langchain==0.1.12) (0.1.52)\n",
            "Requirement already satisfied: langchain-text-splitters<0.1,>=0.0.1 in c:\\uva\\personalprojectspython\\genai_projects\\generativeai_projects\\venv\\lib\\site-packages (from langchain==0.1.12) (0.0.2)\n",
            "Requirement already satisfied: langsmith<0.2.0,>=0.1.17 in c:\\uva\\personalprojectspython\\genai_projects\\generativeai_projects\\venv\\lib\\site-packages (from langchain==0.1.12) (0.1.67)\n",
            "Requirement already satisfied: numpy<2,>=1 in c:\\uva\\personalprojectspython\\genai_projects\\generativeai_projects\\venv\\lib\\site-packages (from langchain==0.1.12) (1.26.4)\n",
            "Requirement already satisfied: pydantic<3,>=1 in c:\\uva\\personalprojectspython\\genai_projects\\generativeai_projects\\venv\\lib\\site-packages (from langchain==0.1.12) (2.7.2)\n",
            "Requirement already satisfied: requests<3,>=2 in c:\\uva\\personalprojectspython\\genai_projects\\generativeai_projects\\venv\\lib\\site-packages (from langchain==0.1.12) (2.32.3)\n",
            "Requirement already satisfied: tenacity<9.0.0,>=8.1.0 in c:\\uva\\personalprojectspython\\genai_projects\\generativeai_projects\\venv\\lib\\site-packages (from langchain==0.1.12) (8.3.0)\n",
            "Requirement already satisfied: aiosignal>=1.1.2 in c:\\uva\\personalprojectspython\\genai_projects\\generativeai_projects\\venv\\lib\\site-packages (from aiohttp<4.0.0,>=3.8.3->langchain==0.1.12) (1.3.1)\n",
            "Requirement already satisfied: attrs>=17.3.0 in c:\\uva\\personalprojectspython\\genai_projects\\generativeai_projects\\venv\\lib\\site-packages (from aiohttp<4.0.0,>=3.8.3->langchain==0.1.12) (23.2.0)\n",
            "Requirement already satisfied: frozenlist>=1.1.1 in c:\\uva\\personalprojectspython\\genai_projects\\generativeai_projects\\venv\\lib\\site-packages (from aiohttp<4.0.0,>=3.8.3->langchain==0.1.12) (1.4.1)\n",
            "Requirement already satisfied: multidict<7.0,>=4.5 in c:\\uva\\personalprojectspython\\genai_projects\\generativeai_projects\\venv\\lib\\site-packages (from aiohttp<4.0.0,>=3.8.3->langchain==0.1.12) (6.0.5)\n",
            "Requirement already satisfied: yarl<2.0,>=1.0 in c:\\uva\\personalprojectspython\\genai_projects\\generativeai_projects\\venv\\lib\\site-packages (from aiohttp<4.0.0,>=3.8.3->langchain==0.1.12) (1.9.4)\n",
            "Requirement already satisfied: marshmallow<4.0.0,>=3.18.0 in c:\\uva\\personalprojectspython\\genai_projects\\generativeai_projects\\venv\\lib\\site-packages (from dataclasses-json<0.7,>=0.5.7->langchain==0.1.12) (3.21.2)\n",
            "Requirement already satisfied: typing-inspect<1,>=0.4.0 in c:\\uva\\personalprojectspython\\genai_projects\\generativeai_projects\\venv\\lib\\site-packages (from dataclasses-json<0.7,>=0.5.7->langchain==0.1.12) (0.9.0)\n",
            "Requirement already satisfied: jsonpointer>=1.9 in c:\\uva\\personalprojectspython\\genai_projects\\generativeai_projects\\venv\\lib\\site-packages (from jsonpatch<2.0,>=1.33->langchain==0.1.12) (2.4)\n",
            "Requirement already satisfied: packaging<24.0,>=23.2 in c:\\uva\\personalprojectspython\\genai_projects\\generativeai_projects\\venv\\lib\\site-packages (from langchain-core<0.2.0,>=0.1.31->langchain==0.1.12) (23.2)\n",
            "Requirement already satisfied: orjson<4.0.0,>=3.9.14 in c:\\uva\\personalprojectspython\\genai_projects\\generativeai_projects\\venv\\lib\\site-packages (from langsmith<0.2.0,>=0.1.17->langchain==0.1.12) (3.10.3)\n",
            "Requirement already satisfied: annotated-types>=0.4.0 in c:\\uva\\personalprojectspython\\genai_projects\\generativeai_projects\\venv\\lib\\site-packages (from pydantic<3,>=1->langchain==0.1.12) (0.7.0)\n",
            "Requirement already satisfied: pydantic-core==2.18.3 in c:\\uva\\personalprojectspython\\genai_projects\\generativeai_projects\\venv\\lib\\site-packages (from pydantic<3,>=1->langchain==0.1.12) (2.18.3)\n",
            "Requirement already satisfied: typing-extensions>=4.6.1 in c:\\uva\\personalprojectspython\\genai_projects\\generativeai_projects\\venv\\lib\\site-packages (from pydantic<3,>=1->langchain==0.1.12) (4.12.0)\n",
            "Requirement already satisfied: charset-normalizer<4,>=2 in c:\\uva\\personalprojectspython\\genai_projects\\generativeai_projects\\venv\\lib\\site-packages (from requests<3,>=2->langchain==0.1.12) (3.3.2)\n",
            "Requirement already satisfied: idna<4,>=2.5 in c:\\uva\\personalprojectspython\\genai_projects\\generativeai_projects\\venv\\lib\\site-packages (from requests<3,>=2->langchain==0.1.12) (3.7)\n",
            "Requirement already satisfied: urllib3<3,>=1.21.1 in c:\\uva\\personalprojectspython\\genai_projects\\generativeai_projects\\venv\\lib\\site-packages (from requests<3,>=2->langchain==0.1.12) (2.2.1)\n",
            "Requirement already satisfied: certifi>=2017.4.17 in c:\\uva\\personalprojectspython\\genai_projects\\generativeai_projects\\venv\\lib\\site-packages (from requests<3,>=2->langchain==0.1.12) (2024.2.2)\n",
            "Requirement already satisfied: greenlet!=0.4.17 in c:\\uva\\personalprojectspython\\genai_projects\\generativeai_projects\\venv\\lib\\site-packages (from SQLAlchemy<3,>=1.4->langchain==0.1.12) (3.0.3)\n",
            "Requirement already satisfied: mypy-extensions>=0.3.0 in c:\\uva\\personalprojectspython\\genai_projects\\generativeai_projects\\venv\\lib\\site-packages (from typing-inspect<1,>=0.4.0->dataclasses-json<0.7,>=0.5.7->langchain==0.1.12) (1.0.0)\n",
            "Requirement already satisfied: langchain-openai==0.0.8 in c:\\uva\\personalprojectspython\\genai_projects\\generativeai_projects\\venv\\lib\\site-packages (0.0.8)\n",
            "Requirement already satisfied: langchain-core<0.2.0,>=0.1.27 in c:\\uva\\personalprojectspython\\genai_projects\\generativeai_projects\\venv\\lib\\site-packages (from langchain-openai==0.0.8) (0.1.52)\n",
            "Requirement already satisfied: openai<2.0.0,>=1.10.0 in c:\\uva\\personalprojectspython\\genai_projects\\generativeai_projects\\venv\\lib\\site-packages (from langchain-openai==0.0.8) (1.30.5)\n",
            "Requirement already satisfied: tiktoken<1,>=0.5.2 in c:\\uva\\personalprojectspython\\genai_projects\\generativeai_projects\\venv\\lib\\site-packages (from langchain-openai==0.0.8) (0.7.0)\n",
            "Requirement already satisfied: PyYAML>=5.3 in c:\\uva\\personalprojectspython\\genai_projects\\generativeai_projects\\venv\\lib\\site-packages (from langchain-core<0.2.0,>=0.1.27->langchain-openai==0.0.8) (6.0.1)\n",
            "Requirement already satisfied: jsonpatch<2.0,>=1.33 in c:\\uva\\personalprojectspython\\genai_projects\\generativeai_projects\\venv\\lib\\site-packages (from langchain-core<0.2.0,>=0.1.27->langchain-openai==0.0.8) (1.33)\n",
            "Requirement already satisfied: langsmith<0.2.0,>=0.1.0 in c:\\uva\\personalprojectspython\\genai_projects\\generativeai_projects\\venv\\lib\\site-packages (from langchain-core<0.2.0,>=0.1.27->langchain-openai==0.0.8) (0.1.67)\n",
            "Requirement already satisfied: packaging<24.0,>=23.2 in c:\\uva\\personalprojectspython\\genai_projects\\generativeai_projects\\venv\\lib\\site-packages (from langchain-core<0.2.0,>=0.1.27->langchain-openai==0.0.8) (23.2)\n",
            "Requirement already satisfied: pydantic<3,>=1 in c:\\uva\\personalprojectspython\\genai_projects\\generativeai_projects\\venv\\lib\\site-packages (from langchain-core<0.2.0,>=0.1.27->langchain-openai==0.0.8) (2.7.2)\n",
            "Requirement already satisfied: tenacity<9.0.0,>=8.1.0 in c:\\uva\\personalprojectspython\\genai_projects\\generativeai_projects\\venv\\lib\\site-packages (from langchain-core<0.2.0,>=0.1.27->langchain-openai==0.0.8) (8.3.0)\n",
            "Requirement already satisfied: anyio<5,>=3.5.0 in c:\\uva\\personalprojectspython\\genai_projects\\generativeai_projects\\venv\\lib\\site-packages (from openai<2.0.0,>=1.10.0->langchain-openai==0.0.8) (3.7.1)\n",
            "Requirement already satisfied: distro<2,>=1.7.0 in c:\\uva\\personalprojectspython\\genai_projects\\generativeai_projects\\venv\\lib\\site-packages (from openai<2.0.0,>=1.10.0->langchain-openai==0.0.8) (1.9.0)\n",
            "Requirement already satisfied: httpx<1,>=0.23.0 in c:\\uva\\personalprojectspython\\genai_projects\\generativeai_projects\\venv\\lib\\site-packages (from openai<2.0.0,>=1.10.0->langchain-openai==0.0.8) (0.27.0)\n",
            "Requirement already satisfied: sniffio in c:\\uva\\personalprojectspython\\genai_projects\\generativeai_projects\\venv\\lib\\site-packages (from openai<2.0.0,>=1.10.0->langchain-openai==0.0.8) (1.3.1)\n",
            "Requirement already satisfied: tqdm>4 in c:\\uva\\personalprojectspython\\genai_projects\\generativeai_projects\\venv\\lib\\site-packages (from openai<2.0.0,>=1.10.0->langchain-openai==0.0.8) (4.66.4)\n",
            "Requirement already satisfied: typing-extensions<5,>=4.7 in c:\\uva\\personalprojectspython\\genai_projects\\generativeai_projects\\venv\\lib\\site-packages (from openai<2.0.0,>=1.10.0->langchain-openai==0.0.8) (4.12.0)\n",
            "Requirement already satisfied: regex>=2022.1.18 in c:\\uva\\personalprojectspython\\genai_projects\\generativeai_projects\\venv\\lib\\site-packages (from tiktoken<1,>=0.5.2->langchain-openai==0.0.8) (2024.5.15)\n",
            "Requirement already satisfied: requests>=2.26.0 in c:\\uva\\personalprojectspython\\genai_projects\\generativeai_projects\\venv\\lib\\site-packages (from tiktoken<1,>=0.5.2->langchain-openai==0.0.8) (2.32.3)\n",
            "Requirement already satisfied: idna>=2.8 in c:\\uva\\personalprojectspython\\genai_projects\\generativeai_projects\\venv\\lib\\site-packages (from anyio<5,>=3.5.0->openai<2.0.0,>=1.10.0->langchain-openai==0.0.8) (3.7)\n",
            "Requirement already satisfied: certifi in c:\\uva\\personalprojectspython\\genai_projects\\generativeai_projects\\venv\\lib\\site-packages (from httpx<1,>=0.23.0->openai<2.0.0,>=1.10.0->langchain-openai==0.0.8) (2024.2.2)\n",
            "Requirement already satisfied: httpcore==1.* in c:\\uva\\personalprojectspython\\genai_projects\\generativeai_projects\\venv\\lib\\site-packages (from httpx<1,>=0.23.0->openai<2.0.0,>=1.10.0->langchain-openai==0.0.8) (1.0.5)\n",
            "Requirement already satisfied: h11<0.15,>=0.13 in c:\\uva\\personalprojectspython\\genai_projects\\generativeai_projects\\venv\\lib\\site-packages (from httpcore==1.*->httpx<1,>=0.23.0->openai<2.0.0,>=1.10.0->langchain-openai==0.0.8) (0.14.0)\n",
            "Requirement already satisfied: jsonpointer>=1.9 in c:\\uva\\personalprojectspython\\genai_projects\\generativeai_projects\\venv\\lib\\site-packages (from jsonpatch<2.0,>=1.33->langchain-core<0.2.0,>=0.1.27->langchain-openai==0.0.8) (2.4)\n",
            "Requirement already satisfied: orjson<4.0.0,>=3.9.14 in c:\\uva\\personalprojectspython\\genai_projects\\generativeai_projects\\venv\\lib\\site-packages (from langsmith<0.2.0,>=0.1.0->langchain-core<0.2.0,>=0.1.27->langchain-openai==0.0.8) (3.10.3)\n",
            "Requirement already satisfied: annotated-types>=0.4.0 in c:\\uva\\personalprojectspython\\genai_projects\\generativeai_projects\\venv\\lib\\site-packages (from pydantic<3,>=1->langchain-core<0.2.0,>=0.1.27->langchain-openai==0.0.8) (0.7.0)\n",
            "Requirement already satisfied: pydantic-core==2.18.3 in c:\\uva\\personalprojectspython\\genai_projects\\generativeai_projects\\venv\\lib\\site-packages (from pydantic<3,>=1->langchain-core<0.2.0,>=0.1.27->langchain-openai==0.0.8) (2.18.3)\n",
            "Requirement already satisfied: charset-normalizer<4,>=2 in c:\\uva\\personalprojectspython\\genai_projects\\generativeai_projects\\venv\\lib\\site-packages (from requests>=2.26.0->tiktoken<1,>=0.5.2->langchain-openai==0.0.8) (3.3.2)\n",
            "Requirement already satisfied: urllib3<3,>=1.21.1 in c:\\uva\\personalprojectspython\\genai_projects\\generativeai_projects\\venv\\lib\\site-packages (from requests>=2.26.0->tiktoken<1,>=0.5.2->langchain-openai==0.0.8) (2.2.1)\n",
            "Requirement already satisfied: colorama in c:\\uva\\personalprojectspython\\genai_projects\\generativeai_projects\\venv\\lib\\site-packages (from tqdm>4->openai<2.0.0,>=1.10.0->langchain-openai==0.0.8) (0.4.6)\n",
            "Requirement already satisfied: langchain-community==0.0.29 in c:\\uva\\personalprojectspython\\genai_projects\\generativeai_projects\\venv\\lib\\site-packages (0.0.29)\n",
            "Requirement already satisfied: PyYAML>=5.3 in c:\\uva\\personalprojectspython\\genai_projects\\generativeai_projects\\venv\\lib\\site-packages (from langchain-community==0.0.29) (6.0.1)\n",
            "Requirement already satisfied: SQLAlchemy<3,>=1.4 in c:\\uva\\personalprojectspython\\genai_projects\\generativeai_projects\\venv\\lib\\site-packages (from langchain-community==0.0.29) (2.0.30)\n",
            "Requirement already satisfied: aiohttp<4.0.0,>=3.8.3 in c:\\uva\\personalprojectspython\\genai_projects\\generativeai_projects\\venv\\lib\\site-packages (from langchain-community==0.0.29) (3.9.5)\n",
            "Requirement already satisfied: dataclasses-json<0.7,>=0.5.7 in c:\\uva\\personalprojectspython\\genai_projects\\generativeai_projects\\venv\\lib\\site-packages (from langchain-community==0.0.29) (0.5.14)\n",
            "Requirement already satisfied: langchain-core<0.2.0,>=0.1.33 in c:\\uva\\personalprojectspython\\genai_projects\\generativeai_projects\\venv\\lib\\site-packages (from langchain-community==0.0.29) (0.1.52)\n",
            "Requirement already satisfied: langsmith<0.2.0,>=0.1.0 in c:\\uva\\personalprojectspython\\genai_projects\\generativeai_projects\\venv\\lib\\site-packages (from langchain-community==0.0.29) (0.1.67)\n",
            "Requirement already satisfied: numpy<2,>=1 in c:\\uva\\personalprojectspython\\genai_projects\\generativeai_projects\\venv\\lib\\site-packages (from langchain-community==0.0.29) (1.26.4)\n",
            "Requirement already satisfied: requests<3,>=2 in c:\\uva\\personalprojectspython\\genai_projects\\generativeai_projects\\venv\\lib\\site-packages (from langchain-community==0.0.29) (2.32.3)\n",
            "Requirement already satisfied: tenacity<9.0.0,>=8.1.0 in c:\\uva\\personalprojectspython\\genai_projects\\generativeai_projects\\venv\\lib\\site-packages (from langchain-community==0.0.29) (8.3.0)\n",
            "Requirement already satisfied: aiosignal>=1.1.2 in c:\\uva\\personalprojectspython\\genai_projects\\generativeai_projects\\venv\\lib\\site-packages (from aiohttp<4.0.0,>=3.8.3->langchain-community==0.0.29) (1.3.1)\n",
            "Requirement already satisfied: attrs>=17.3.0 in c:\\uva\\personalprojectspython\\genai_projects\\generativeai_projects\\venv\\lib\\site-packages (from aiohttp<4.0.0,>=3.8.3->langchain-community==0.0.29) (23.2.0)\n",
            "Requirement already satisfied: frozenlist>=1.1.1 in c:\\uva\\personalprojectspython\\genai_projects\\generativeai_projects\\venv\\lib\\site-packages (from aiohttp<4.0.0,>=3.8.3->langchain-community==0.0.29) (1.4.1)\n",
            "Requirement already satisfied: multidict<7.0,>=4.5 in c:\\uva\\personalprojectspython\\genai_projects\\generativeai_projects\\venv\\lib\\site-packages (from aiohttp<4.0.0,>=3.8.3->langchain-community==0.0.29) (6.0.5)\n",
            "Requirement already satisfied: yarl<2.0,>=1.0 in c:\\uva\\personalprojectspython\\genai_projects\\generativeai_projects\\venv\\lib\\site-packages (from aiohttp<4.0.0,>=3.8.3->langchain-community==0.0.29) (1.9.4)\n",
            "Requirement already satisfied: marshmallow<4.0.0,>=3.18.0 in c:\\uva\\personalprojectspython\\genai_projects\\generativeai_projects\\venv\\lib\\site-packages (from dataclasses-json<0.7,>=0.5.7->langchain-community==0.0.29) (3.21.2)\n",
            "Requirement already satisfied: typing-inspect<1,>=0.4.0 in c:\\uva\\personalprojectspython\\genai_projects\\generativeai_projects\\venv\\lib\\site-packages (from dataclasses-json<0.7,>=0.5.7->langchain-community==0.0.29) (0.9.0)\n",
            "Requirement already satisfied: jsonpatch<2.0,>=1.33 in c:\\uva\\personalprojectspython\\genai_projects\\generativeai_projects\\venv\\lib\\site-packages (from langchain-core<0.2.0,>=0.1.33->langchain-community==0.0.29) (1.33)\n",
            "Requirement already satisfied: packaging<24.0,>=23.2 in c:\\uva\\personalprojectspython\\genai_projects\\generativeai_projects\\venv\\lib\\site-packages (from langchain-core<0.2.0,>=0.1.33->langchain-community==0.0.29) (23.2)\n",
            "Requirement already satisfied: pydantic<3,>=1 in c:\\uva\\personalprojectspython\\genai_projects\\generativeai_projects\\venv\\lib\\site-packages (from langchain-core<0.2.0,>=0.1.33->langchain-community==0.0.29) (2.7.2)\n",
            "Requirement already satisfied: orjson<4.0.0,>=3.9.14 in c:\\uva\\personalprojectspython\\genai_projects\\generativeai_projects\\venv\\lib\\site-packages (from langsmith<0.2.0,>=0.1.0->langchain-community==0.0.29) (3.10.3)\n",
            "Requirement already satisfied: charset-normalizer<4,>=2 in c:\\uva\\personalprojectspython\\genai_projects\\generativeai_projects\\venv\\lib\\site-packages (from requests<3,>=2->langchain-community==0.0.29) (3.3.2)\n",
            "Requirement already satisfied: idna<4,>=2.5 in c:\\uva\\personalprojectspython\\genai_projects\\generativeai_projects\\venv\\lib\\site-packages (from requests<3,>=2->langchain-community==0.0.29) (3.7)\n",
            "Requirement already satisfied: urllib3<3,>=1.21.1 in c:\\uva\\personalprojectspython\\genai_projects\\generativeai_projects\\venv\\lib\\site-packages (from requests<3,>=2->langchain-community==0.0.29) (2.2.1)\n",
            "Requirement already satisfied: certifi>=2017.4.17 in c:\\uva\\personalprojectspython\\genai_projects\\generativeai_projects\\venv\\lib\\site-packages (from requests<3,>=2->langchain-community==0.0.29) (2024.2.2)\n",
            "Requirement already satisfied: typing-extensions>=4.6.0 in c:\\uva\\personalprojectspython\\genai_projects\\generativeai_projects\\venv\\lib\\site-packages (from SQLAlchemy<3,>=1.4->langchain-community==0.0.29) (4.12.0)\n",
            "Requirement already satisfied: greenlet!=0.4.17 in c:\\uva\\personalprojectspython\\genai_projects\\generativeai_projects\\venv\\lib\\site-packages (from SQLAlchemy<3,>=1.4->langchain-community==0.0.29) (3.0.3)\n",
            "Requirement already satisfied: jsonpointer>=1.9 in c:\\uva\\personalprojectspython\\genai_projects\\generativeai_projects\\venv\\lib\\site-packages (from jsonpatch<2.0,>=1.33->langchain-core<0.2.0,>=0.1.33->langchain-community==0.0.29) (2.4)\n",
            "Requirement already satisfied: annotated-types>=0.4.0 in c:\\uva\\personalprojectspython\\genai_projects\\generativeai_projects\\venv\\lib\\site-packages (from pydantic<3,>=1->langchain-core<0.2.0,>=0.1.33->langchain-community==0.0.29) (0.7.0)\n",
            "Requirement already satisfied: pydantic-core==2.18.3 in c:\\uva\\personalprojectspython\\genai_projects\\generativeai_projects\\venv\\lib\\site-packages (from pydantic<3,>=1->langchain-core<0.2.0,>=0.1.33->langchain-community==0.0.29) (2.18.3)\n",
            "Requirement already satisfied: mypy-extensions>=0.3.0 in c:\\uva\\personalprojectspython\\genai_projects\\generativeai_projects\\venv\\lib\\site-packages (from typing-inspect<1,>=0.4.0->dataclasses-json<0.7,>=0.5.7->langchain-community==0.0.29) (1.0.0)\n",
            "Requirement already satisfied: streamlit==1.32.2 in c:\\uva\\personalprojectspython\\genai_projects\\generativeai_projects\\venv\\lib\\site-packages (1.32.2)\n",
            "Requirement already satisfied: altair<6,>=4.0 in c:\\uva\\personalprojectspython\\genai_projects\\generativeai_projects\\venv\\lib\\site-packages (from streamlit==1.32.2) (5.3.0)\n",
            "Requirement already satisfied: blinker<2,>=1.0.0 in c:\\uva\\personalprojectspython\\genai_projects\\generativeai_projects\\venv\\lib\\site-packages (from streamlit==1.32.2) (1.8.2)\n",
            "Requirement already satisfied: cachetools<6,>=4.0 in c:\\uva\\personalprojectspython\\genai_projects\\generativeai_projects\\venv\\lib\\site-packages (from streamlit==1.32.2) (5.3.3)\n",
            "Requirement already satisfied: click<9,>=7.0 in c:\\uva\\personalprojectspython\\genai_projects\\generativeai_projects\\venv\\lib\\site-packages (from streamlit==1.32.2) (8.1.7)\n",
            "Requirement already satisfied: numpy<2,>=1.19.3 in c:\\uva\\personalprojectspython\\genai_projects\\generativeai_projects\\venv\\lib\\site-packages (from streamlit==1.32.2) (1.26.4)\n",
            "Requirement already satisfied: packaging<24,>=16.8 in c:\\uva\\personalprojectspython\\genai_projects\\generativeai_projects\\venv\\lib\\site-packages (from streamlit==1.32.2) (23.2)\n",
            "Requirement already satisfied: pandas<3,>=1.3.0 in c:\\uva\\personalprojectspython\\genai_projects\\generativeai_projects\\venv\\lib\\site-packages (from streamlit==1.32.2) (2.2.2)\n",
            "Requirement already satisfied: pillow<11,>=7.1.0 in c:\\uva\\personalprojectspython\\genai_projects\\generativeai_projects\\venv\\lib\\site-packages (from streamlit==1.32.2) (10.3.0)\n",
            "Requirement already satisfied: protobuf<5,>=3.20 in c:\\uva\\personalprojectspython\\genai_projects\\generativeai_projects\\venv\\lib\\site-packages (from streamlit==1.32.2) (4.25.3)\n",
            "Requirement already satisfied: pyarrow>=7.0 in c:\\uva\\personalprojectspython\\genai_projects\\generativeai_projects\\venv\\lib\\site-packages (from streamlit==1.32.2) (16.1.0)\n",
            "Requirement already satisfied: requests<3,>=2.27 in c:\\uva\\personalprojectspython\\genai_projects\\generativeai_projects\\venv\\lib\\site-packages (from streamlit==1.32.2) (2.32.3)\n",
            "Requirement already satisfied: rich<14,>=10.14.0 in c:\\uva\\personalprojectspython\\genai_projects\\generativeai_projects\\venv\\lib\\site-packages (from streamlit==1.32.2) (13.7.1)\n",
            "Requirement already satisfied: tenacity<9,>=8.1.0 in c:\\uva\\personalprojectspython\\genai_projects\\generativeai_projects\\venv\\lib\\site-packages (from streamlit==1.32.2) (8.3.0)\n",
            "Requirement already satisfied: toml<2,>=0.10.1 in c:\\uva\\personalprojectspython\\genai_projects\\generativeai_projects\\venv\\lib\\site-packages (from streamlit==1.32.2) (0.10.2)\n",
            "Requirement already satisfied: typing-extensions<5,>=4.3.0 in c:\\uva\\personalprojectspython\\genai_projects\\generativeai_projects\\venv\\lib\\site-packages (from streamlit==1.32.2) (4.12.0)\n",
            "Requirement already satisfied: gitpython!=3.1.19,<4,>=3.0.7 in c:\\uva\\personalprojectspython\\genai_projects\\generativeai_projects\\venv\\lib\\site-packages (from streamlit==1.32.2) (3.1.43)\n",
            "Requirement already satisfied: pydeck<1,>=0.8.0b4 in c:\\uva\\personalprojectspython\\genai_projects\\generativeai_projects\\venv\\lib\\site-packages (from streamlit==1.32.2) (0.9.1)\n",
            "Requirement already satisfied: tornado<7,>=6.0.3 in c:\\uva\\personalprojectspython\\genai_projects\\generativeai_projects\\venv\\lib\\site-packages (from streamlit==1.32.2) (6.4)\n",
            "Requirement already satisfied: watchdog>=2.1.5 in c:\\uva\\personalprojectspython\\genai_projects\\generativeai_projects\\venv\\lib\\site-packages (from streamlit==1.32.2) (4.0.1)\n",
            "Requirement already satisfied: jinja2 in c:\\uva\\personalprojectspython\\genai_projects\\generativeai_projects\\venv\\lib\\site-packages (from altair<6,>=4.0->streamlit==1.32.2) (3.1.4)\n",
            "Requirement already satisfied: jsonschema>=3.0 in c:\\uva\\personalprojectspython\\genai_projects\\generativeai_projects\\venv\\lib\\site-packages (from altair<6,>=4.0->streamlit==1.32.2) (4.22.0)\n",
            "Requirement already satisfied: toolz in c:\\uva\\personalprojectspython\\genai_projects\\generativeai_projects\\venv\\lib\\site-packages (from altair<6,>=4.0->streamlit==1.32.2) (0.12.1)\n",
            "Requirement already satisfied: colorama in c:\\uva\\personalprojectspython\\genai_projects\\generativeai_projects\\venv\\lib\\site-packages (from click<9,>=7.0->streamlit==1.32.2) (0.4.6)\n",
            "Requirement already satisfied: gitdb<5,>=4.0.1 in c:\\uva\\personalprojectspython\\genai_projects\\generativeai_projects\\venv\\lib\\site-packages (from gitpython!=3.1.19,<4,>=3.0.7->streamlit==1.32.2) (4.0.11)\n",
            "Requirement already satisfied: python-dateutil>=2.8.2 in c:\\uva\\personalprojectspython\\genai_projects\\generativeai_projects\\venv\\lib\\site-packages (from pandas<3,>=1.3.0->streamlit==1.32.2) (2.9.0.post0)\n",
            "Requirement already satisfied: pytz>=2020.1 in c:\\uva\\personalprojectspython\\genai_projects\\generativeai_projects\\venv\\lib\\site-packages (from pandas<3,>=1.3.0->streamlit==1.32.2) (2024.1)\n",
            "Requirement already satisfied: tzdata>=2022.7 in c:\\uva\\personalprojectspython\\genai_projects\\generativeai_projects\\venv\\lib\\site-packages (from pandas<3,>=1.3.0->streamlit==1.32.2) (2024.1)\n",
            "Requirement already satisfied: charset-normalizer<4,>=2 in c:\\uva\\personalprojectspython\\genai_projects\\generativeai_projects\\venv\\lib\\site-packages (from requests<3,>=2.27->streamlit==1.32.2) (3.3.2)\n",
            "Requirement already satisfied: idna<4,>=2.5 in c:\\uva\\personalprojectspython\\genai_projects\\generativeai_projects\\venv\\lib\\site-packages (from requests<3,>=2.27->streamlit==1.32.2) (3.7)\n",
            "Requirement already satisfied: urllib3<3,>=1.21.1 in c:\\uva\\personalprojectspython\\genai_projects\\generativeai_projects\\venv\\lib\\site-packages (from requests<3,>=2.27->streamlit==1.32.2) (2.2.1)\n",
            "Requirement already satisfied: certifi>=2017.4.17 in c:\\uva\\personalprojectspython\\genai_projects\\generativeai_projects\\venv\\lib\\site-packages (from requests<3,>=2.27->streamlit==1.32.2) (2024.2.2)\n",
            "Requirement already satisfied: markdown-it-py>=2.2.0 in c:\\uva\\personalprojectspython\\genai_projects\\generativeai_projects\\venv\\lib\\site-packages (from rich<14,>=10.14.0->streamlit==1.32.2) (3.0.0)\n",
            "Requirement already satisfied: pygments<3.0.0,>=2.13.0 in c:\\uva\\personalprojectspython\\genai_projects\\generativeai_projects\\venv\\lib\\site-packages (from rich<14,>=10.14.0->streamlit==1.32.2) (2.18.0)\n",
            "Requirement already satisfied: smmap<6,>=3.0.1 in c:\\uva\\personalprojectspython\\genai_projects\\generativeai_projects\\venv\\lib\\site-packages (from gitdb<5,>=4.0.1->gitpython!=3.1.19,<4,>=3.0.7->streamlit==1.32.2) (5.0.1)\n",
            "Requirement already satisfied: MarkupSafe>=2.0 in c:\\uva\\personalprojectspython\\genai_projects\\generativeai_projects\\venv\\lib\\site-packages (from jinja2->altair<6,>=4.0->streamlit==1.32.2) (2.1.5)\n",
            "Requirement already satisfied: attrs>=22.2.0 in c:\\uva\\personalprojectspython\\genai_projects\\generativeai_projects\\venv\\lib\\site-packages (from jsonschema>=3.0->altair<6,>=4.0->streamlit==1.32.2) (23.2.0)\n",
            "Requirement already satisfied: jsonschema-specifications>=2023.03.6 in c:\\uva\\personalprojectspython\\genai_projects\\generativeai_projects\\venv\\lib\\site-packages (from jsonschema>=3.0->altair<6,>=4.0->streamlit==1.32.2) (2023.12.1)\n",
            "Requirement already satisfied: referencing>=0.28.4 in c:\\uva\\personalprojectspython\\genai_projects\\generativeai_projects\\venv\\lib\\site-packages (from jsonschema>=3.0->altair<6,>=4.0->streamlit==1.32.2) (0.35.1)\n",
            "Requirement already satisfied: rpds-py>=0.7.1 in c:\\uva\\personalprojectspython\\genai_projects\\generativeai_projects\\venv\\lib\\site-packages (from jsonschema>=3.0->altair<6,>=4.0->streamlit==1.32.2) (0.18.1)\n",
            "Requirement already satisfied: mdurl~=0.1 in c:\\uva\\personalprojectspython\\genai_projects\\generativeai_projects\\venv\\lib\\site-packages (from markdown-it-py>=2.2.0->rich<14,>=10.14.0->streamlit==1.32.2) (0.1.2)\n",
            "Requirement already satisfied: six>=1.5 in c:\\uva\\personalprojectspython\\genai_projects\\generativeai_projects\\venv\\lib\\site-packages (from python-dateutil>=2.8.2->pandas<3,>=1.3.0->streamlit==1.32.2) (1.16.0)\n"
          ]
        }
      ],
      "source": [
        "!pip install langchain==0.1.12\n",
        "!pip install langchain-openai==0.0.8\n",
        "!pip install langchain-community==0.0.29\n",
        "!pip install streamlit==1.32.2\n"
      ]
    },
    {
      "cell_type": "markdown",
      "metadata": {
        "id": "CiwGjVWK4q6F"
      },
      "source": [
        "## Load OpenAI API Credentials\n",
        "\n",
        "Here we load it from a file so we don't explore the credentials on the internet by mistake"
      ]
    },
    {
      "cell_type": "code",
      "execution_count": null,
      "metadata": {
        "id": "5e1HqI56y7t3"
      },
      "outputs": [],
      "source": [
        "import locale\n",
        "locale.getpreferredencoding = lambda: \"UTF-8\""
      ]
    },
    {
      "cell_type": "code",
      "execution_count": null,
      "metadata": {
        "id": "ryheOZuXxa41"
      },
      "outputs": [],
      "source": [
        "import yaml\n",
        "\n",
        "with open('api_credentials.yml', 'r') as file:\n",
        "    api_creds = yaml.safe_load(file)"
      ]
    },
    {
      "cell_type": "code",
      "execution_count": null,
      "metadata": {
        "colab": {
          "base_uri": "https://localhost:8080/"
        },
        "id": "eZs7ts6NzADJ",
        "outputId": "e99869e1-ab51-471d-c6b2-b4710927c531"
      },
      "outputs": [
        {
          "data": {
            "text/plain": [
              "dict_keys(['openai_key'])"
            ]
          },
          "execution_count": 4,
          "metadata": {},
          "output_type": "execute_result"
        }
      ],
      "source": [
        "api_creds.keys()"
      ]
    },
    {
      "cell_type": "code",
      "execution_count": null,
      "metadata": {
        "id": "kDe44J0N0NcC"
      },
      "outputs": [],
      "source": [
        "import os\n",
        "\n",
        "os.environ['OPENAI_API_KEY'] = api_creds['openai_key']"
      ]
    },
    {
      "cell_type": "markdown",
      "metadata": {
        "id": "RCMshwB1U9iQ"
      },
      "source": [
        "### Write the app code "
      ]
    },
    {
      "cell_type": "code",
      "execution_count": 10,
      "metadata": {
        "colab": {
          "base_uri": "https://localhost:8080/"
        },
        "id": "XXceMDF0Qza0",
        "outputId": "00f2633f-5de2-4fea-97c8-b31f90bbdfd4"
      },
      "outputs": [
        {
          "name": "stdout",
          "output_type": "stream",
          "text": [
            "Overwriting app.py\n"
          ]
        }
      ],
      "source": [
        "%%writefile app.py \n",
        "#the above line will write as file\n",
        "\n",
        "from langchain_openai import ChatOpenAI\n",
        "from langchain_core.prompts import ChatPromptTemplate, MessagesPlaceholder\n",
        "from langchain_community.chat_message_histories import StreamlitChatMessageHistory\n",
        "from langchain_core.runnables.history import RunnableWithMessageHistory\n",
        "from langchain.callbacks.base import BaseCallbackHandler\n",
        "from operator import itemgetter\n",
        "import streamlit as st\n",
        "import yaml\n",
        "import os\n",
        "import locale\n",
        "\n",
        "\n",
        "locale.getpreferredencoding = lambda: \"UTF-8\"\n",
        "\n",
        "with open('api_credentials.yml', 'r') as file:\n",
        "    api_creds = yaml.safe_load(file)\n",
        "\n",
        "\n",
        "os.environ['OPENAI_API_KEY'] = api_creds['openai_key']\n",
        "\n",
        "# Customize initial app landing page\n",
        "st.set_page_config(page_title=\"AI Assistant\", page_icon=\"🤖\")\n",
        "st.title(\"AI Chat assistant application! \")\n",
        "\n",
        "# Manages live updates to a Streamlit app's display by appending new text tokens\n",
        "# to an existing text stream and rendering the updated text in Markdown\n",
        "class StreamHandler(BaseCallbackHandler):\n",
        "  def __init__(self, container, initial_text=\"\"):\n",
        "    self.container = container\n",
        "    self.text = initial_text\n",
        "\n",
        "  def on_llm_new_token(self, token: str, **kwargs) -> None:\n",
        "    self.text += token\n",
        "    self.container.markdown(self.text)\n",
        "\n",
        "# Load a connection to ChatGPT LLM\n",
        "chatgpt = ChatOpenAI(model_name='gpt-3.5-turbo', temperature=0.1,streaming=True)\n",
        "\n",
        "# Add a basic system prompt for LLM behavior\n",
        "SYS_PROMPT = \"\"\"\n",
        "              Act as a helpful assistant and answer questions to the best of your ability.\n",
        "              Do not make up new answers.\n",
        "              \"\"\"\n",
        "\n",
        "# Create a prompt template for langchain to use history to answer user prompts\n",
        "prompt = ChatPromptTemplate.from_messages(\n",
        "  [\n",
        "    (\"system\", SYS_PROMPT),\n",
        "    MessagesPlaceholder(variable_name=\"history\"),\n",
        "    (\"human\", \"{input}\"),\n",
        "  ]\n",
        ")\n",
        "\n",
        "# Create a basic llm chain\n",
        "llm_chain = (\n",
        "  prompt\n",
        "  |\n",
        "  chatgpt\n",
        ")\n",
        "\n",
        "# Store conversation history in Streamlit session state\n",
        "streamlit_msg_history = StreamlitChatMessageHistory()\n",
        "\n",
        "# Create a conversation chain\n",
        "conversation_chain = RunnableWithMessageHistory(\n",
        "  llm_chain,\n",
        "  lambda session_id: streamlit_msg_history,  # Accesses memory\n",
        "  input_messages_key=\"input\",\n",
        "  history_messages_key=\"history\",\n",
        ")\n",
        "\n",
        "# Shows the first message when app starts\n",
        "if len(streamlit_msg_history.messages) == 0:\n",
        "  streamlit_msg_history.add_ai_message(\"How can I help you?\")\n",
        "\n",
        "# Render current messages from StreamlitChatMessageHistory\n",
        "for msg in streamlit_msg_history.messages:\n",
        "  st.chat_message(msg.type).write(msg.content)\n",
        "\n",
        "# If user inputs a new prompt, display it and show the response\n",
        "if user_prompt := st.chat_input():\n",
        "  st.chat_message(\"human\").write(user_prompt)\n",
        "  # This is where response from the LLM is shown\n",
        "  with st.chat_message(\"ai\"):\n",
        "    # Initializing an empty data stream\n",
        "    stream_handler = StreamHandler(st.empty())\n",
        "    config = {\"configurable\": {\"session_id\": \"any\"},\n",
        "              \"callbacks\": [stream_handler]}\n",
        "    # Get llm response\n",
        "    response = conversation_chain.invoke({\"input\": user_prompt},\n",
        "                                         config)\n"
      ]
    },
    {
      "cell_type": "markdown",
      "metadata": {
        "id": "8de1tM6FVLsq"
      },
      "source": [
        "## Start the app"
      ]
    },
    {
      "cell_type": "code",
      "execution_count": 11,
      "metadata": {
        "id": "Za_TAI2RkPI9"
      },
      "outputs": [],
      "source": [
        "!streamlit run app.py #--server.port=8989 "
      ]
    },
    {
      "cell_type": "code",
      "execution_count": null,
      "metadata": {},
      "outputs": [],
      "source": []
    }
  ],
  "metadata": {
    "colab": {
      "provenance": []
    },
    "kernelspec": {
      "display_name": "Python 3",
      "name": "python3"
    },
    "language_info": {
      "codemirror_mode": {
        "name": "ipython",
        "version": 3
      },
      "file_extension": ".py",
      "mimetype": "text/x-python",
      "name": "python",
      "nbconvert_exporter": "python",
      "pygments_lexer": "ipython3",
      "version": "3.12.3"
    }
  },
  "nbformat": 4,
  "nbformat_minor": 0
}
